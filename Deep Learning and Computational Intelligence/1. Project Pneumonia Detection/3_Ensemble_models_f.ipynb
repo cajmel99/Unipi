{
 "cells": [
  {
   "cell_type": "markdown",
   "metadata": {
    "id": "Xqs3j8ZqZmvQ"
   },
   "source": [
    "# 3. Ensemble"
   ]
  },
  {
   "cell_type": "markdown",
   "metadata": {
    "id": "l5s-N9DXYZDC"
   },
   "source": [
    "## Import Libraries"
   ]
  },
  {
   "cell_type": "code",
   "execution_count": 3,
   "metadata": {
    "id": "790GcOInQ_yw"
   },
   "outputs": [],
   "source": [
    "import os\n",
    "import shutil\n",
    "import numpy as np\n",
    "import random as rn\n",
    "import tensorflow as tf\n",
    "from tensorflow import keras\n",
    "from tensorflow.keras.utils import image_dataset_from_directory\n",
    "from tensorflow.keras import layers, models, optimizers\n",
    "from tensorflow.keras.models import Sequential\n",
    "from tensorflow.keras.applications import VGG16\n",
    "import matplotlib.pyplot as plt\n",
    "from sklearn import metrics\n",
    "import h5py"
   ]
  },
  {
   "cell_type": "markdown",
   "metadata": {
    "id": "C884lZO-YiB2"
   },
   "source": [
    "## Load Dataset"
   ]
  },
  {
   "cell_type": "code",
   "execution_count": 4,
   "metadata": {},
   "outputs": [],
   "source": [
    "\"\"\"Read data_set\"\"\"\n",
    "f = h5py.File('DataSet_Pneumonia', 'r')\n",
    "\n",
    "X_new = f['X_train']\n",
    "X_train = X_new[::]\n",
    "y_new = f['y_train']\n",
    "y_train = y_new[::]\n",
    "\n",
    "X_new = f['X_test']\n",
    "X_test = X_new[::]\n",
    "y_new = f['y_test']\n",
    "y_test = y_new[::]\n",
    "\n",
    "X_new = f['X_val_bla']\n",
    "X_val_bal = X_new[::]\n",
    "y_new = f['y_val_bal']\n",
    "y_val_bal = y_new[::]"
   ]
  },
  {
   "cell_type": "markdown",
   "metadata": {
    "id": "NaDMLtupmIEk"
   },
   "source": [
    "## Functions"
   ]
  },
  {
   "cell_type": "code",
   "execution_count": 34,
   "metadata": {
    "id": "fSX3ug4Cgwww"
   },
   "outputs": [],
   "source": [
    "def evaluate_model(y_score, y_pred):\n",
    "    y_true = y_test\n",
    "    print(\"Classification report: \")\n",
    "    print(metrics.classification_report(y_true,y_pred,digits = 4))\n",
    "    metrics.ConfusionMatrixDisplay.from_predictions(y_true, y_pred)\n",
    "\n",
    "    # ROC curve\n",
    "    fpr,tpr,th = metrics.roc_curve(y_true,y_score)\n",
    "    roc_auc = metrics.roc_auc_score(y_true,y_score)\n",
    "\n",
    "    plt.figure()\n",
    "    plt.plot(fpr, tpr, label='ROC curve (area = %0.2f)' % roc_auc)\n",
    "    plt.plot([0, 1], [0, 1], color='navy', linestyle='--')\n",
    "    plt.xlim([0.0, 1.0])\n",
    "    plt.ylim([0.0, 1.0])\n",
    "    plt.xlabel('False Positive Rate')\n",
    "    plt.ylabel('True Positive Rate')\n",
    "    plt.title('ROC curve')\n",
    "    plt.legend(loc=\"lower right\")\n",
    "    plt.show()"
   ]
  },
  {
   "cell_type": "markdown",
   "metadata": {
    "id": "6CwLPuqiam1H"
   },
   "source": [
    "## Load models\n",
    "With the purpose of creating an ensemble model, we load the best performing models."
   ]
  },
  {
   "cell_type": "code",
   "execution_count": 7,
   "metadata": {},
   "outputs": [],
   "source": [
    "#import CNN model from scratch\n",
    "from_scratch = tf.keras.models.load_model('/Users/marysia/Desktop/Deep_learning/models/pneumonia_models')\n",
    "#import pre-trained VGG16 model\n",
    "vgg_model = tf.keras.models.load_model('/Users/marysia/Desktop/Deep learning/pre_trained_model/pneumonia_models')"
   ]
  },
  {
   "cell_type": "markdown",
   "metadata": {
    "id": "hPBJN9lACs8K"
   },
   "source": [
    "### Scores on test and validation sets"
   ]
  },
  {
   "cell_type": "code",
   "execution_count": 8,
   "metadata": {
    "id": "RFpT2aVdCspN"
   },
   "outputs": [
    {
     "name": "stdout",
     "output_type": "stream",
     "text": [
      "28/28 [==============================] - 14s 505ms/step\n"
     ]
    }
   ],
   "source": [
    "# vgg_model\n",
    "vgg_test_scores = vgg_model.predict(X_test)\n",
    "# from_scratch\n",
    "from_scratch_test_scores = from_scratch.predict(X_test)"
   ]
  },
  {
   "cell_type": "code",
   "execution_count": 10,
   "metadata": {
    "id": "jIX_QqgpDX2k"
   },
   "outputs": [],
   "source": [
    "test_scores = [vgg_test_scores, from_scratch_test_scores]"
   ]
  },
  {
   "cell_type": "code",
   "execution_count": 11,
   "metadata": {
    "id": "jyi8nG-OMk1r"
   },
   "outputs": [
    {
     "name": "stdout",
     "output_type": "stream",
     "text": [
      "15/15 [==============================] - 135s 9s/step\n",
      "15/15 [==============================] - 8s 554ms/step\n"
     ]
    }
   ],
   "source": [
    "# vgg_model\n",
    "vgg_validation_scores = vgg_model.predict(X_val_bal)\n",
    "# from_scratch\n",
    "from_scratch_validation_scores = from_scratch.predict(X_val_bal)"
   ]
  },
  {
   "cell_type": "code",
   "execution_count": 13,
   "metadata": {
    "id": "UI9x1YyaORSK"
   },
   "outputs": [],
   "source": [
    "val_scores = [vgg_validation_scores, from_scratch_validation_scores]"
   ]
  },
  {
   "cell_type": "markdown",
   "metadata": {
    "id": "qqpKnjEZBowi"
   },
   "source": [
    "## Average Model\n",
    "By averaging the predictions of multiple models, I take the average of the predictions made by each model on the same input data. The idea behind this approach is that the errors made by different models may cancel each other out, resulting in a final prediction that is more accurate than any single model's prediction."
   ]
  },
  {
   "cell_type": "code",
   "execution_count": 14,
   "metadata": {
    "id": "GQEa1ZIGDrRT"
   },
   "outputs": [],
   "source": [
    "ensemble_scores = []\n",
    "n_models = len(test_scores)\n",
    "for i in range(len(y_test)):\n",
    "    ensemble_scores.append(np.sum([1/n_models*model_score[i] for model_score in test_scores]))\n",
    "\n",
    "ensemble_predictions = np.rint(ensemble_scores)"
   ]
  },
  {
   "cell_type": "code",
   "execution_count": null,
   "metadata": {
    "colab": {
     "base_uri": "https://localhost:8080/",
     "height": 744
    },
    "executionInfo": {
     "elapsed": 2715,
     "status": "ok",
     "timestamp": 1641578693264,
     "user": {
      "displayName": "Federica Baldi",
      "photoUrl": "https://lh3.googleusercontent.com/a-/AOh14Gj0eALl9wD-GJPtSTMAFK0DvDlcGWh5ZTpdGFtwCIo=s64",
      "userId": "15726835528723494588"
     },
     "user_tz": -60
    },
    "id": "l9A1P49Qfeoi",
    "outputId": "8a841130-1e32-4617-bae4-fe796adb307e"
   },
   "outputs": [
    {
     "name": "stdout",
     "output_type": "stream",
     "text": [
      "Classification report: \n",
      "              precision    recall  f1-score   support\n",
      "\n",
      "           0     0.9567    0.8894    0.9218       696\n",
      "           1     0.9482    0.9805    0.9641      1437\n",
      "\n",
      "    accuracy                         0.9508      2133\n",
      "   macro avg     0.9525    0.9349    0.9429      2133\n",
      "weighted avg     0.9510    0.9508    0.9503      2133\n",
      "\n"
     ]
    },
    {
     "data": {
      "image/png": "[encoded data removed]",
      "text/plain": [
       "<Figure size 432x288 with 2 Axes>"
      ]
     },
     "metadata": {
      "needs_background": "light"
     },
     "output_type": "display_data"
    },
    {
     "data": {
      "image/png": "[encoded data removed]",
      "text/plain": [
       "<Figure size 432x288 with 1 Axes>"
      ]
     },
     "metadata": {
      "needs_background": "light"
     },
     "output_type": "display_data"
    }
   ],
   "source": [
    "evaluate_model(ensemble_scores, ensemble_predictions)"
   ]
  },
  {
   "cell_type": "markdown",
   "metadata": {
    "id": "ZYws8mVEpvQe"
   },
   "source": [
    "## Weighted Average Model\n",
    "Combining the predictions of multiple models by assigning different weights to each model's prediction."
   ]
  },
  {
   "cell_type": "code",
   "execution_count": 16,
   "metadata": {
    "id": "YHa7BEacOAUT"
   },
   "outputs": [],
   "source": [
    "def weighted_average_scores(models_scores, weights):\n",
    "    if len(weights) != len(models_scores):\n",
    "        return\n",
    "    weighted_scores = []\n",
    "    for i in range(len(models_scores[0])):\n",
    "        weighted_score = [weight*model_score[i] for weight,model_score in zip(weights, models_scores)]\n",
    "        weighted_average = np.sum(weighted_score, axis = 0)\n",
    "        weighted_scores.append(weighted_average)\n",
    "    return weighted_scores"
   ]
  },
  {
   "cell_type": "markdown",
   "metadata": {
    "id": "dOORybMQGVsB"
   },
   "source": [
    "## Genetic Algorithm\n",
    "This process can be computationally expensive and time-consuming, but it allows to find the best combination of models. With this technique, the genetic algorithm will search for a combination of models that performs better than any individual model."
   ]
  },
  {
   "cell_type": "markdown",
   "metadata": {
    "id": "geROQcFWMRjD"
   },
   "source": [
    "- Termination is fitness function, which maximize the weighted F-measure on the validation set.\n",
    "- Each chromosome is composed of two genes, which represent the weights associated with the two models.\n",
    "- The parameters of the genetic algorithm such as initial population of candidate solutions, population size, number of generations, and crossover and mutation probabilities are chosen experimentally.\n"
   ]
  },
  {
   "cell_type": "code",
   "execution_count": 17,
   "metadata": {
    "id": "MwoJ3KzFTmGV"
   },
   "outputs": [],
   "source": [
    "def f1_measure(weights):\n",
    "    weighted_scores = weighted_average_scores(val_scores, weights)\n",
    "    predictions = np.rint(weighted_scores)\n",
    "    return metrics.f1_score(y_val_bal, predictions, average=\"weighted\")"
   ]
  },
  {
   "cell_type": "code",
   "execution_count": 18,
   "metadata": {
    "id": "Oyfhxw0quc16"
   },
   "outputs": [],
   "source": [
    "# tournament selection\n",
    "def selection(population, scores, k=3):\n",
    "    selection_indexes = [rn.randrange(0, len(population), 1) for i in range(k)]\n",
    "    selected_index = selection_indexes[0]\n",
    "    for i in selection_indexes[1:]:\n",
    "        # perform the tournament, i.e. check if new selection is better than last one\n",
    "        if scores[i] > scores[selected_index]:\n",
    "              selected_index = i\n",
    "    return population[selected_index]"
   ]
  },
  {
   "cell_type": "code",
   "execution_count": 19,
   "metadata": {
    "id": "oTt6ot6Jvd33"
   },
   "outputs": [],
   "source": [
    "# average crossover\n",
    "def crossover(parent_1, parent_2, r_genes):\n",
    "    children_1, children_2 = parent_1.copy(), parent_2.copy()\n",
    "    random_genes_indexes = [rn.randrange(0, len(parent_1), 1) for i in range(r_genes)]\n",
    "    for i in random_genes_indexes:\n",
    "        average = (parent_1[i] + parent_2[i])/2\n",
    "        children_1[i] = average\n",
    "        children_2[i] = average\n",
    "    return [[float(i)/sum(children_1) for i in children_1], \n",
    "          [float(i)/sum(children_2) for i in children_2]] # normalization is needed because the sum of weights must be one"
   ]
  },
  {
   "cell_type": "code",
   "execution_count": 20,
   "metadata": {
    "id": "uaJWULQ1wrOX"
   },
   "outputs": [],
   "source": [
    "# all-positions mutation\n",
    "def mutation(chromosome):\n",
    "    index = rn.randint(0, len(chromosome)-1)\n",
    "    chromosome[index] = rn.random()\n",
    "    return [float(i)/sum(chromosome) for i in chromosome]"
   ]
  },
  {
   "cell_type": "code",
   "execution_count": 21,
   "metadata": {
    "id": "gBNeyyAS-XWS"
   },
   "outputs": [],
   "source": [
    "# weighted f1-measure on validation set\n",
    "def fitness(chromosome):\n",
    "    return f1_measure(chromosome)"
   ]
  },
  {
   "cell_type": "code",
   "execution_count": 22,
   "metadata": {
    "id": "XZunosUYqg1b"
   },
   "outputs": [],
   "source": [
    "def genetic_algorithm(fitness, number_of_models, population_size, number_of_generations, p_crossover, p_mutation):\n",
    "    population = [] #initial popoluation\n",
    "    for i in range(population_size):\n",
    "        chromosome = [rn.random() for _ in range(number_of_models)]\n",
    "        chromosome = [float(i)/sum(chromosome) for i in chromosome]\n",
    "        population.insert(i, chromosome)\n",
    "    best_chromosome, best_fitness = 0, fitness(population[0]) #following the solutions\n",
    "  \n",
    "    for generation in range(number_of_generations):\n",
    "\n",
    "        scores = [fitness(chromosome) for chromosome in population] # evaluate all candidates in the population\n",
    "        # check new best solution\n",
    "        new_best = False\n",
    "        for i in range(population_size):\n",
    "            if scores[i] > best_fitness:\n",
    "                new_best = True\n",
    "                best_chromosome, best_fitness = population[i], scores[i]\n",
    "        if new_best:\n",
    "            print(f\">Generation {generation+1}, new best = {best_chromosom} = {best_fitness})\n",
    "\n",
    "        selected = [selection(population, scores) for _ in range(population_size)] # select parents\n",
    "        children = []     # next generation\n",
    "\n",
    "    for i in range(0, population_size, 2):\n",
    "        p1, p2 = selected[i], selected[i+1] ## join selected parents in pairs\n",
    "        #crossover and mutation\n",
    "        if rn.random() < p_crossover:\n",
    "            for c in crossover(p1, p2, r_genes=2):\n",
    "                if rn.random() < p_mutation:\n",
    "                    mutation(c)\n",
    "                children.append(c) # store for next generation\n",
    "        else:\n",
    "            children.append(p1)\n",
    "            children.append(p2)\n",
    "            \n",
    "    population = children #new population\n",
    "    return [best_chromosome, best_fitness]"
   ]
  },
  {
   "cell_type": "code",
   "execution_count": 23,
   "metadata": {
    "colab": {
     "base_uri": "https://localhost:8080/"
    },
    "executionInfo": {
     "elapsed": 4602704,
     "status": "ok",
     "timestamp": 1641583524407,
     "user": {
      "displayName": "Federica Baldi",
      "photoUrl": "https://lh3.googleusercontent.com/a-/AOh14Gj0eALl9wD-GJPtSTMAFK0DvDlcGWh5ZTpdGFtwCIo=s64",
      "userId": "15726835528723494588"
     },
     "user_tz": -60
    },
    "id": "1U8aJGVTrCi6",
    "outputId": "6dea037f-3951-4e0f-a757-b1cf2bf3fc37"
   },
   "outputs": [
    {
     "name": "stdout",
     "output_type": "stream",
     "text": [
      "Iteration  0\n",
      ">Generation 1, new best f([0.43409155739509936, 0.5659084426049006]) = 0.9874\n",
      ">Generation 66, new best f([0.08713733601331286, 0.5711268723454607]) = 0.9874\n",
      "------------\n",
      "Iteration  1\n",
      ">Generation 1, new best f([0.43935931604127376, 0.5606406839587262]) = 0.9874\n",
      ">Generation 20, new best f([0.15634926995894727, 0.5752355914670528]) = 0.9874\n",
      "------------\n",
      "Iteration  2\n",
      ">Generation 1, new best f([0.41682441171567614, 0.583175588284324]) = 0.9874\n",
      ">Generation 8, new best f([0.11012762227824369, 0.5813263171043215]) = 0.9874\n",
      "------------\n",
      "Iteration  3\n",
      ">Generation 1, new best f([0.4174286314226268, 0.5825713685773731]) = 0.9874\n",
      ">Generation 54, new best f([0.06505208289683384, 0.5737424265560149]) = 0.9874\n",
      "------------\n",
      "Iteration  4\n",
      ">Generation 1, new best f([0.4404068775308588, 0.5595931224691412]) = 0.9874\n",
      ">Generation 13, new best f([0.11333059386816169, 0.5673525009693308]) = 0.9874\n",
      "------------\n",
      "Iteration  5\n",
      ">Generation 1, new best f([0.4167234344597301, 0.5832765655402699]) = 0.9874\n",
      "------------\n",
      "Iteration  6\n",
      ">Generation 1, new best f([0.44209470000531326, 0.5579052999946869]) = 0.9874\n",
      ">Generation 38, new best f([0.15334315603748072, 0.568357891383681]) = 0.9874\n",
      "------------\n",
      "Iteration  7\n",
      ">Generation 1, new best f([0.45137145897999215, 0.5486285410200078]) = 0.9874\n",
      ">Generation 11, new best f([0.12534914429446897, 0.5604702151677592]) = 0.9874\n",
      "------------\n",
      "Iteration  8\n",
      ">Generation 1, new best f([0.4396910687169994, 0.5603089312830007]) = 0.9874\n",
      "------------\n",
      "Iteration  9\n",
      ">Generation 1, new best f([0.4468080045754809, 0.5531919954245191]) = 0.9874\n",
      "------------\n"
     ]
    }
   ],
   "source": [
    "weights = None\n",
    "fmeasure = -10\n",
    "for i in range(10):\n",
    "    print(\"Iteration \", i)\n",
    "    cw, cfm = genetic_algorithm(fitness, 2, 100, 100, 0.4, 0.005)\n",
    "    if cfm > fmeasure:\n",
    "        fmeasure = cfm\n",
    "        weights = cw\n",
    "    print(\"------------\")"
   ]
  },
  {
   "cell_type": "code",
   "execution_count": 24,
   "metadata": {
    "colab": {
     "base_uri": "https://localhost:8080/"
    },
    "executionInfo": {
     "elapsed": 1037,
     "status": "ok",
     "timestamp": 1641584047282,
     "user": {
      "displayName": "Federica Baldi",
      "photoUrl": "https://lh3.googleusercontent.com/a-/AOh14Gj0eALl9wD-GJPtSTMAFK0DvDlcGWh5ZTpdGFtwCIo=s64",
      "userId": "15726835528723494588"
     },
     "user_tz": -60
    },
    "id": "znwBnBamB_Pl",
    "outputId": "c27151f5-c96b-414d-819c-1a0eb775bd8b"
   },
   "outputs": [
    {
     "name": "stdout",
     "output_type": "stream",
     "text": [
      "[0.08713733601331286, 0.5711268723454607]\n",
      "0.9873949579831933\n"
     ]
    }
   ],
   "source": [
    "print(weights)\n",
    "print(fmeasure)"
   ]
  },
  {
   "cell_type": "code",
   "execution_count": 35,
   "metadata": {
    "colab": {
     "base_uri": "https://localhost:8080/",
     "height": 745
    },
    "executionInfo": {
     "elapsed": 2894,
     "status": "ok",
     "timestamp": 1641583910455,
     "user": {
      "displayName": "Federica Baldi",
      "photoUrl": "https://lh3.googleusercontent.com/a-/AOh14Gj0eALl9wD-GJPtSTMAFK0DvDlcGWh5ZTpdGFtwCIo=s64",
      "userId": "15726835528723494588"
     },
     "user_tz": -60
    },
    "id": "4k3giTorBfr0",
    "outputId": "aad854a3-c701-4764-a331-677da631722c"
   },
   "outputs": [
    {
     "name": "stdout",
     "output_type": "stream",
     "text": [
      "Classification report: \n",
      "              precision    recall  f1-score   support\n",
      "\n",
      "           0     0.9657    0.9825    0.9740       229\n",
      "           1     0.9938    0.9877    0.9907       650\n",
      "\n",
      "    accuracy                         0.9863       879\n",
      "   macro avg     0.9797    0.9851    0.9824       879\n",
      "weighted avg     0.9865    0.9863    0.9864       879\n",
      "\n"
     ]
    },
    {
     "data": {
      "image/png": "[encoded data removed]",
      "text/plain": [
       "<Figure size 640x480 with 2 Axes>"
      ]
     },
     "metadata": {},
     "output_type": "display_data"
    },
    {
     "data": {
      "image/png": "[encoded data removed]",
      "text/plain": [
       "<Figure size 640x480 with 1 Axes>"
      ]
     },
     "metadata": {},
     "output_type": "display_data"
    }
   ],
   "source": [
    "ensemble_scores = weighted_average_scores(test_scores, weights)\n",
    "ensemble_predictions = np.rint(ensemble_scores)\n",
    "evaluate_model(ensemble_scores, ensemble_predictions)"
   ]
  }
 ],
 "metadata": {
  "accelerator": "GPU",
  "colab": {
   "collapsed_sections": [],
   "name": "7. Ensemble.ipynb",
   "provenance": []
  },
  "kernelspec": {
   "display_name": "Python 3 (ipykernel)",
   "language": "python",
   "name": "python3"
  },
  "language_info": {
   "codemirror_mode": {
    "name": "ipython",
    "version": 3
   },
   "file_extension": ".py",
   "mimetype": "text/x-python",
   "name": "python",
   "nbconvert_exporter": "python",
   "pygments_lexer": "ipython3",
   "version": "3.9.15"
  }
 },
 "nbformat": 4,
 "nbformat_minor": 1
}
